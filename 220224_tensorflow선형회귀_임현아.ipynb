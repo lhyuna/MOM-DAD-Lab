{
  "nbformat": 4,
  "nbformat_minor": 0,
  "metadata": {
    "colab": {
      "name": "220224_tensorflow선형회귀_임현아.ipynb",
      "provenance": [],
      "collapsed_sections": []
    },
    "kernelspec": {
      "name": "python3",
      "display_name": "Python 3"
    },
    "language_info": {
      "name": "python"
    }
  },
  "cells": [
    {
      "cell_type": "code",
      "execution_count": null,
      "metadata": {
        "colab": {
          "base_uri": "https://localhost:8080/"
        },
        "id": "WsfdiMP5wF2j",
        "outputId": "acc31487-45cb-4dc3-9473-b6a99b91232d"
      },
      "outputs": [
        {
          "output_type": "stream",
          "name": "stdout",
          "text": [
            "Requirement already satisfied: tensorflow in /usr/local/lib/python3.7/dist-packages (2.7.0)\n",
            "Requirement already satisfied: numpy>=1.14.5 in /usr/local/lib/python3.7/dist-packages (from tensorflow) (1.19.5)\n",
            "Requirement already satisfied: h5py>=2.9.0 in /usr/local/lib/python3.7/dist-packages (from tensorflow) (3.1.0)\n",
            "Requirement already satisfied: gast<0.5.0,>=0.2.1 in /usr/local/lib/python3.7/dist-packages (from tensorflow) (0.4.0)\n",
            "Requirement already satisfied: wheel<1.0,>=0.32.0 in /usr/local/lib/python3.7/dist-packages (from tensorflow) (0.37.1)\n",
            "Requirement already satisfied: google-pasta>=0.1.1 in /usr/local/lib/python3.7/dist-packages (from tensorflow) (0.2.0)\n",
            "Requirement already satisfied: termcolor>=1.1.0 in /usr/local/lib/python3.7/dist-packages (from tensorflow) (1.1.0)\n",
            "Requirement already satisfied: tensorflow-estimator<2.8,~=2.7.0rc0 in /usr/local/lib/python3.7/dist-packages (from tensorflow) (2.7.0)\n",
            "Requirement already satisfied: flatbuffers<3.0,>=1.12 in /usr/local/lib/python3.7/dist-packages (from tensorflow) (2.0)\n",
            "Requirement already satisfied: tensorboard~=2.6 in /usr/local/lib/python3.7/dist-packages (from tensorflow) (2.7.0)\n",
            "Requirement already satisfied: six>=1.12.0 in /usr/local/lib/python3.7/dist-packages (from tensorflow) (1.15.0)\n",
            "Requirement already satisfied: protobuf>=3.9.2 in /usr/local/lib/python3.7/dist-packages (from tensorflow) (3.17.3)\n",
            "Requirement already satisfied: keras-preprocessing>=1.1.1 in /usr/local/lib/python3.7/dist-packages (from tensorflow) (1.1.2)\n",
            "Requirement already satisfied: astunparse>=1.6.0 in /usr/local/lib/python3.7/dist-packages (from tensorflow) (1.6.3)\n",
            "Requirement already satisfied: keras<2.8,>=2.7.0rc0 in /usr/local/lib/python3.7/dist-packages (from tensorflow) (2.7.0)\n",
            "Requirement already satisfied: tensorflow-io-gcs-filesystem>=0.21.0 in /usr/local/lib/python3.7/dist-packages (from tensorflow) (0.24.0)\n",
            "Requirement already satisfied: opt-einsum>=2.3.2 in /usr/local/lib/python3.7/dist-packages (from tensorflow) (3.3.0)\n",
            "Requirement already satisfied: absl-py>=0.4.0 in /usr/local/lib/python3.7/dist-packages (from tensorflow) (1.0.0)\n",
            "Requirement already satisfied: wrapt>=1.11.0 in /usr/local/lib/python3.7/dist-packages (from tensorflow) (1.13.3)\n",
            "Requirement already satisfied: grpcio<2.0,>=1.24.3 in /usr/local/lib/python3.7/dist-packages (from tensorflow) (1.43.0)\n",
            "Requirement already satisfied: libclang>=9.0.1 in /usr/local/lib/python3.7/dist-packages (from tensorflow) (13.0.0)\n",
            "Requirement already satisfied: typing-extensions>=3.6.6 in /usr/local/lib/python3.7/dist-packages (from tensorflow) (3.10.0.2)\n",
            "Requirement already satisfied: cached-property in /usr/local/lib/python3.7/dist-packages (from h5py>=2.9.0->tensorflow) (1.5.2)\n",
            "Requirement already satisfied: tensorboard-plugin-wit>=1.6.0 in /usr/local/lib/python3.7/dist-packages (from tensorboard~=2.6->tensorflow) (1.8.1)\n",
            "Requirement already satisfied: setuptools>=41.0.0 in /usr/local/lib/python3.7/dist-packages (from tensorboard~=2.6->tensorflow) (57.4.0)\n",
            "Requirement already satisfied: werkzeug>=0.11.15 in /usr/local/lib/python3.7/dist-packages (from tensorboard~=2.6->tensorflow) (1.0.1)\n",
            "Requirement already satisfied: tensorboard-data-server<0.7.0,>=0.6.0 in /usr/local/lib/python3.7/dist-packages (from tensorboard~=2.6->tensorflow) (0.6.1)\n",
            "Requirement already satisfied: google-auth-oauthlib<0.5,>=0.4.1 in /usr/local/lib/python3.7/dist-packages (from tensorboard~=2.6->tensorflow) (0.4.6)\n",
            "Requirement already satisfied: google-auth<3,>=1.6.3 in /usr/local/lib/python3.7/dist-packages (from tensorboard~=2.6->tensorflow) (1.35.0)\n",
            "Requirement already satisfied: requests<3,>=2.21.0 in /usr/local/lib/python3.7/dist-packages (from tensorboard~=2.6->tensorflow) (2.23.0)\n",
            "Requirement already satisfied: markdown>=2.6.8 in /usr/local/lib/python3.7/dist-packages (from tensorboard~=2.6->tensorflow) (3.3.6)\n",
            "Requirement already satisfied: cachetools<5.0,>=2.0.0 in /usr/local/lib/python3.7/dist-packages (from google-auth<3,>=1.6.3->tensorboard~=2.6->tensorflow) (4.2.4)\n",
            "Requirement already satisfied: pyasn1-modules>=0.2.1 in /usr/local/lib/python3.7/dist-packages (from google-auth<3,>=1.6.3->tensorboard~=2.6->tensorflow) (0.2.8)\n",
            "Requirement already satisfied: rsa<5,>=3.1.4 in /usr/local/lib/python3.7/dist-packages (from google-auth<3,>=1.6.3->tensorboard~=2.6->tensorflow) (4.8)\n",
            "Requirement already satisfied: requests-oauthlib>=0.7.0 in /usr/local/lib/python3.7/dist-packages (from google-auth-oauthlib<0.5,>=0.4.1->tensorboard~=2.6->tensorflow) (1.3.1)\n",
            "Requirement already satisfied: importlib-metadata>=4.4 in /usr/local/lib/python3.7/dist-packages (from markdown>=2.6.8->tensorboard~=2.6->tensorflow) (4.10.1)\n",
            "Requirement already satisfied: zipp>=0.5 in /usr/local/lib/python3.7/dist-packages (from importlib-metadata>=4.4->markdown>=2.6.8->tensorboard~=2.6->tensorflow) (3.7.0)\n",
            "Requirement already satisfied: pyasn1<0.5.0,>=0.4.6 in /usr/local/lib/python3.7/dist-packages (from pyasn1-modules>=0.2.1->google-auth<3,>=1.6.3->tensorboard~=2.6->tensorflow) (0.4.8)\n",
            "Requirement already satisfied: chardet<4,>=3.0.2 in /usr/local/lib/python3.7/dist-packages (from requests<3,>=2.21.0->tensorboard~=2.6->tensorflow) (3.0.4)\n",
            "Requirement already satisfied: urllib3!=1.25.0,!=1.25.1,<1.26,>=1.21.1 in /usr/local/lib/python3.7/dist-packages (from requests<3,>=2.21.0->tensorboard~=2.6->tensorflow) (1.24.3)\n",
            "Requirement already satisfied: idna<3,>=2.5 in /usr/local/lib/python3.7/dist-packages (from requests<3,>=2.21.0->tensorboard~=2.6->tensorflow) (2.10)\n",
            "Requirement already satisfied: certifi>=2017.4.17 in /usr/local/lib/python3.7/dist-packages (from requests<3,>=2.21.0->tensorboard~=2.6->tensorflow) (2021.10.8)\n",
            "Requirement already satisfied: oauthlib>=3.0.0 in /usr/local/lib/python3.7/dist-packages (from requests-oauthlib>=0.7.0->google-auth-oauthlib<0.5,>=0.4.1->tensorboard~=2.6->tensorflow) (3.2.0)\n"
          ]
        }
      ],
      "source": [
        "!pip install tensorflow"
      ]
    },
    {
      "cell_type": "code",
      "source": [
        "import tensorflow as tf\n",
        "import numpy as np\n",
        "import matplotlib.pyplot as plt\n",
        "import math\n",
        "from tensorflow.keras.datasets import boston_housing"
      ],
      "metadata": {
        "id": "NpBdYYazwJgK"
      },
      "execution_count": null,
      "outputs": []
    },
    {
      "cell_type": "code",
      "source": [
        "# 데이터 불러오기\n",
        "(train_X, train_Y), (test_X, test_Y) = boston_housing.load_data()\n",
        "\n",
        "print(len(train_X), len(test_X))\n",
        "print(train_X[0])\n",
        "print(train_Y[0])"
      ],
      "metadata": {
        "colab": {
          "base_uri": "https://localhost:8080/"
        },
        "id": "iuj0YUHXwKx4",
        "outputId": "b1ce4b7e-a303-4c18-a1d4-24fc2532b9d6"
      },
      "execution_count": null,
      "outputs": [
        {
          "output_type": "stream",
          "name": "stdout",
          "text": [
            "404 102\n",
            "[  1.23247   0.        8.14      0.        0.538     6.142    91.7\n",
            "   3.9769    4.      307.       21.      396.9      18.72   ]\n",
            "15.2\n"
          ]
        }
      ]
    },
    {
      "cell_type": "code",
      "source": [
        "# 데이터 전처리(정규화)\n",
        "# 데이터 정규화의 기본적인 방법은 각 데이터에서 평균값을 뺀 다음 표준편차로 나누는 것.\n",
        "x_mean = train_X.mean(axis=0)\n",
        "x_std = train_X.std(axis=0)\n",
        "train_X -= x_mean\n",
        "train_X /= x_std\n",
        "test_X -= x_mean\n",
        "test_X /= x_std\n",
        "\n",
        "y_mean = train_Y.mean(axis=0)\n",
        "y_std = train_Y.std(axis=0)\n",
        "train_Y -= y_mean\n",
        "train_Y /= y_std\n",
        "test_Y -= y_mean\n",
        "test_Y /= y_std\n",
        "\n",
        "print(train_X[0])\n",
        "print(train_Y[0])"
      ],
      "metadata": {
        "colab": {
          "base_uri": "https://localhost:8080/"
        },
        "id": "kfbFlbjRwM0b",
        "outputId": "dc8bf03a-8dde-4148-b88c-525667b7336a"
      },
      "execution_count": null,
      "outputs": [
        {
          "output_type": "stream",
          "name": "stdout",
          "text": [
            "[-0.27224633 -0.48361547 -0.43576161 -0.25683275 -0.1652266  -0.1764426\n",
            "  0.81306188  0.1166983  -0.62624905 -0.59517003  1.14850044  0.44807713\n",
            "  0.8252202 ]\n",
            "-0.7821526033779157\n"
          ]
        }
      ]
    },
    {
      "cell_type": "code",
      "source": [
        "# Boston Housing Dataset 회귀 모델 생성\n",
        "model = tf.keras.Sequential([\n",
        "    tf.keras.layers.Dense(units=52, activation='relu', input_shape=(13,)),\n",
        "    tf.keras.layers.Dense(units=39, activation='relu'),\n",
        "    tf.keras.layers.Dense(units=26, activation='relu'),\n",
        "    tf.keras.layers.Dense(units=1)\n",
        "])\n",
        "# 결과가 하나이기 때문에 마지막 units = 1\n",
        "'''\n",
        "* units: 해당 은닉층에서 활동하는 뉴런의 수\n",
        "* activation: 활성화함수, 해당 은닉층의 가중치와 편향의 연산 결과를 어느 함수에 적합하여 출력할 것인가?\n",
        "* input_shape: 입력 벡터의 크기, 여기서 13은 해당 데이터 프레임의 열의 수를 나타낸다. 데이터의 구조(이미지, 영상)에 따라 달라질 수 있다. 첫 번째 은닉층에서만 정의해준다.\n",
        "'''\n",
        "\n",
        "model.compile(optimizer=tf.keras.optimizers.Adam(lr=0.07), loss='mse')\n",
        "'''\n",
        "* compile은 모델의 최적화와 관련되는 메서드이다. 모델에게 최적화를 위해 어떤 동작을 할지를 가르쳐주는 메서드\n",
        "* loss: 손실 계산 함수를 정의한다. 손실 계산 함수가 중요한 이유는 모델 결과를 판단하는 지표가 되기 때문이다. \n",
        "* optimizer: 최적화 함수를 정의한다. 즉, loss를 가장 낮게하는 학습을 할 수 있도록 그 기준을 계산할 수 있는 함수를 정의한다.\n",
        "* 즉, compile 메서드에서 하는 일은 loss를 최소화하는 최적화 방안을 정의하는 것이라고 할 수 있다. \n",
        "'''\n",
        "model.summary()\n",
        "'''\n",
        "* 생성된 모델 구조 확인\n",
        "'''\n",
        "#[출처] [Tensorflow] tf.keras 주요 함수 정리|작성자 딥상어동"
      ],
      "metadata": {
        "colab": {
          "base_uri": "https://localhost:8080/",
          "height": 385
        },
        "id": "WehAc__HwOhY",
        "outputId": "8e49ac8c-f444-4a2d-9d72-3a4980bbe51d"
      },
      "execution_count": null,
      "outputs": [
        {
          "output_type": "stream",
          "name": "stdout",
          "text": [
            "Model: \"sequential\"\n",
            "_________________________________________________________________\n",
            " Layer (type)                Output Shape              Param #   \n",
            "=================================================================\n",
            " dense (Dense)               (None, 52)                728       \n",
            "                                                                 \n",
            " dense_1 (Dense)             (None, 39)                2067      \n",
            "                                                                 \n",
            " dense_2 (Dense)             (None, 26)                1040      \n",
            "                                                                 \n",
            " dense_3 (Dense)             (None, 1)                 27        \n",
            "                                                                 \n",
            "=================================================================\n",
            "Total params: 3,862\n",
            "Trainable params: 3,862\n",
            "Non-trainable params: 0\n",
            "_________________________________________________________________\n"
          ]
        },
        {
          "output_type": "stream",
          "name": "stderr",
          "text": [
            "/usr/local/lib/python3.7/dist-packages/keras/optimizer_v2/adam.py:105: UserWarning: The `lr` argument is deprecated, use `learning_rate` instead.\n",
            "  super(Adam, self).__init__(name, **kwargs)\n"
          ]
        },
        {
          "output_type": "execute_result",
          "data": {
            "application/vnd.google.colaboratory.intrinsic+json": {
              "type": "string"
            },
            "text/plain": [
              "'\\n* 생성된 모델 구조 확인\\n'"
            ]
          },
          "metadata": {},
          "execution_count": 5
        }
      ]
    },
    {
      "cell_type": "code",
      "source": [
        "# 회귀 모델 학습\n",
        "history = model.fit(train_X, train_Y, epochs=50, batch_size=32, validation_split=0.25)\n",
        "'''\n",
        "* 실제 데이터에 fitting을 진행하고 진행 내역을 객체에 기록\n",
        "* train_X, train_Y: 학습시킬 데이터셋 정의 \n",
        "* epochs: 학습 반복 횟수\n",
        "* batch_size: 학습 시 한번에 들어가는 데이터의 크기\n",
        "* validation_split: train_set에서 몇 %를 검증 set으로 분리할지 결정\n",
        "'''\n",
        "#[출처] [Tensorflow] tf.keras 주요 함수 정리|작성자 딥상어동"
      ],
      "metadata": {
        "colab": {
          "base_uri": "https://localhost:8080/",
          "height": 1000
        },
        "id": "BUjBTaPJwQm5",
        "outputId": "7bcb094b-9e09-411a-c95f-38f968c0d764"
      },
      "execution_count": null,
      "outputs": [
        {
          "output_type": "stream",
          "name": "stdout",
          "text": [
            "Epoch 1/50\n",
            "10/10 [==============================] - 1s 36ms/step - loss: 1.4071 - val_loss: 1.4025\n",
            "Epoch 2/50\n",
            "10/10 [==============================] - 0s 9ms/step - loss: 0.6784 - val_loss: 0.6364\n",
            "Epoch 3/50\n",
            "10/10 [==============================] - 0s 8ms/step - loss: 0.4793 - val_loss: 0.4860\n",
            "Epoch 4/50\n",
            "10/10 [==============================] - 0s 8ms/step - loss: 0.3678 - val_loss: 0.3256\n",
            "Epoch 5/50\n",
            "10/10 [==============================] - 0s 6ms/step - loss: 0.3209 - val_loss: 0.2816\n",
            "Epoch 6/50\n",
            "10/10 [==============================] - 0s 10ms/step - loss: 0.3021 - val_loss: 0.2318\n",
            "Epoch 7/50\n",
            "10/10 [==============================] - 0s 8ms/step - loss: 0.3202 - val_loss: 0.4812\n",
            "Epoch 8/50\n",
            "10/10 [==============================] - 0s 6ms/step - loss: 0.2698 - val_loss: 0.2825\n",
            "Epoch 9/50\n",
            "10/10 [==============================] - 0s 6ms/step - loss: 0.2138 - val_loss: 0.1920\n",
            "Epoch 10/50\n",
            "10/10 [==============================] - 0s 4ms/step - loss: 0.1934 - val_loss: 0.3868\n",
            "Epoch 11/50\n",
            "10/10 [==============================] - 0s 4ms/step - loss: 0.2048 - val_loss: 0.3970\n",
            "Epoch 12/50\n",
            "10/10 [==============================] - 0s 6ms/step - loss: 0.1707 - val_loss: 0.2947\n",
            "Epoch 13/50\n",
            "10/10 [==============================] - 0s 4ms/step - loss: 0.1833 - val_loss: 0.1859\n",
            "Epoch 14/50\n",
            "10/10 [==============================] - 0s 6ms/step - loss: 0.1342 - val_loss: 0.2205\n",
            "Epoch 15/50\n",
            "10/10 [==============================] - 0s 4ms/step - loss: 0.1254 - val_loss: 0.1533\n",
            "Epoch 16/50\n",
            "10/10 [==============================] - 0s 6ms/step - loss: 0.1234 - val_loss: 0.1496\n",
            "Epoch 17/50\n",
            "10/10 [==============================] - 0s 4ms/step - loss: 0.1235 - val_loss: 0.1536\n",
            "Epoch 18/50\n",
            "10/10 [==============================] - 0s 6ms/step - loss: 0.1092 - val_loss: 0.1316\n",
            "Epoch 19/50\n",
            "10/10 [==============================] - 0s 5ms/step - loss: 0.1152 - val_loss: 0.1334\n",
            "Epoch 20/50\n",
            "10/10 [==============================] - 0s 6ms/step - loss: 0.0845 - val_loss: 0.1576\n",
            "Epoch 21/50\n",
            "10/10 [==============================] - 0s 6ms/step - loss: 0.0937 - val_loss: 0.1321\n",
            "Epoch 22/50\n",
            "10/10 [==============================] - 0s 4ms/step - loss: 0.1035 - val_loss: 0.1388\n",
            "Epoch 23/50\n",
            "10/10 [==============================] - 0s 4ms/step - loss: 0.1025 - val_loss: 0.3632\n",
            "Epoch 24/50\n",
            "10/10 [==============================] - 0s 6ms/step - loss: 0.1328 - val_loss: 0.1320\n",
            "Epoch 25/50\n",
            "10/10 [==============================] - 0s 7ms/step - loss: 0.0697 - val_loss: 0.1567\n",
            "Epoch 26/50\n",
            "10/10 [==============================] - 0s 7ms/step - loss: 0.1006 - val_loss: 0.1692\n",
            "Epoch 27/50\n",
            "10/10 [==============================] - 0s 7ms/step - loss: 0.1025 - val_loss: 0.2077\n",
            "Epoch 28/50\n",
            "10/10 [==============================] - 0s 8ms/step - loss: 0.1021 - val_loss: 0.1858\n",
            "Epoch 29/50\n",
            "10/10 [==============================] - 0s 6ms/step - loss: 0.1203 - val_loss: 0.2303\n",
            "Epoch 30/50\n",
            "10/10 [==============================] - 0s 6ms/step - loss: 0.1386 - val_loss: 0.1941\n",
            "Epoch 31/50\n",
            "10/10 [==============================] - 0s 5ms/step - loss: 0.1365 - val_loss: 0.1388\n",
            "Epoch 32/50\n",
            "10/10 [==============================] - 0s 4ms/step - loss: 0.1173 - val_loss: 0.1719\n",
            "Epoch 33/50\n",
            "10/10 [==============================] - 0s 4ms/step - loss: 0.1215 - val_loss: 0.1790\n",
            "Epoch 34/50\n",
            "10/10 [==============================] - 0s 6ms/step - loss: 0.1084 - val_loss: 0.2470\n",
            "Epoch 35/50\n",
            "10/10 [==============================] - 0s 6ms/step - loss: 0.1195 - val_loss: 0.3127\n",
            "Epoch 36/50\n",
            "10/10 [==============================] - 0s 4ms/step - loss: 0.1681 - val_loss: 0.2066\n",
            "Epoch 37/50\n",
            "10/10 [==============================] - 0s 4ms/step - loss: 0.0893 - val_loss: 0.1455\n",
            "Epoch 38/50\n",
            "10/10 [==============================] - 0s 6ms/step - loss: 0.0813 - val_loss: 0.1489\n",
            "Epoch 39/50\n",
            "10/10 [==============================] - 0s 6ms/step - loss: 0.0761 - val_loss: 0.1426\n",
            "Epoch 40/50\n",
            "10/10 [==============================] - 0s 4ms/step - loss: 0.0725 - val_loss: 0.1395\n",
            "Epoch 41/50\n",
            "10/10 [==============================] - 0s 4ms/step - loss: 0.0663 - val_loss: 0.1315\n",
            "Epoch 42/50\n",
            "10/10 [==============================] - 0s 6ms/step - loss: 0.0755 - val_loss: 0.1787\n",
            "Epoch 43/50\n",
            "10/10 [==============================] - 0s 7ms/step - loss: 0.0953 - val_loss: 0.1461\n",
            "Epoch 44/50\n",
            "10/10 [==============================] - 0s 6ms/step - loss: 0.0886 - val_loss: 0.2250\n",
            "Epoch 45/50\n",
            "10/10 [==============================] - 0s 4ms/step - loss: 0.0972 - val_loss: 0.1730\n",
            "Epoch 46/50\n",
            "10/10 [==============================] - 0s 5ms/step - loss: 0.0819 - val_loss: 0.1276\n",
            "Epoch 47/50\n",
            "10/10 [==============================] - 0s 4ms/step - loss: 0.0678 - val_loss: 0.1501\n",
            "Epoch 48/50\n",
            "10/10 [==============================] - 0s 4ms/step - loss: 0.0670 - val_loss: 0.1696\n",
            "Epoch 49/50\n",
            "10/10 [==============================] - 0s 4ms/step - loss: 0.1090 - val_loss: 0.2038\n",
            "Epoch 50/50\n",
            "10/10 [==============================] - 0s 6ms/step - loss: 0.1229 - val_loss: 0.2314\n"
          ]
        },
        {
          "output_type": "execute_result",
          "data": {
            "application/vnd.google.colaboratory.intrinsic+json": {
              "type": "string"
            },
            "text/plain": [
              "'\\n* 실제 데이터에 fitting을 진행하고 진행 내역을 객체에 기록\\n* train_X, train_Y: 학습시킬 데이터셋 정의 \\n* epochs: 학습 반복 횟수\\n* batch_size: 학습 시 한번에 들어가는 데이터의 크기\\n* validation_split: train_set에서 몇 %를 검증 set으로 분리할지 결정\\n'"
            ]
          },
          "metadata": {},
          "execution_count": 6
        }
      ]
    },
    {
      "cell_type": "code",
      "source": [
        "# 회귀 모델 학습 결과 시각화\n",
        "plt.plot(history.history['loss'], 'b-', label='loss')\n",
        "plt.plot(history.history['val_loss'], 'r--', label='val_loss')\n",
        "plt.xlabel('Epoch')\n",
        "plt.legend()\n",
        "plt.show()"
      ],
      "metadata": {
        "colab": {
          "base_uri": "https://localhost:8080/",
          "height": 278
        },
        "id": "xsunvtwowSZI",
        "outputId": "afc295a9-9050-4521-f2de-376ca9ce790c"
      },
      "execution_count": null,
      "outputs": [
        {
          "output_type": "display_data",
          "data": {
            "image/png": "[encoded data removed]",
            "text/plain": [
              "<Figure size 432x288 with 1 Axes>"
            ]
          },
          "metadata": {
            "needs_background": "light"
          }
        }
      ]
    },
    {
      "cell_type": "code",
      "source": [
        "# 회귀 모델 평가\n",
        "model.evaluate(test_X, test_Y)\n",
        "'''\n",
        "* 가중치에 영향을 줄 수 있는 데이터셋은 train_set 뿐이라는 것을 명심, 학습된 네트워크의 성능을 테스트 셋에 적용해서 확인해본다.\n",
        "'''"
      ],
      "metadata": {
        "colab": {
          "base_uri": "https://localhost:8080/",
          "height": 54
        },
        "id": "Np640OPYwTjQ",
        "outputId": "704ee314-a9fc-45de-df66-db04aef090ad"
      },
      "execution_count": null,
      "outputs": [
        {
          "output_type": "stream",
          "name": "stdout",
          "text": [
            "4/4 [==============================] - 0s 3ms/step - loss: 0.2729\n"
          ]
        },
        {
          "output_type": "execute_result",
          "data": {
            "application/vnd.google.colaboratory.intrinsic+json": {
              "type": "string"
            },
            "text/plain": [
              "'\\n* 가중치에 영향을 줄 수 있는 데이터셋은 train_set 뿐이라는 것을 명심, 학습된 네트워크의 성능을 테스트 셋에 적용해서 확인해본다.\\n'"
            ]
          },
          "metadata": {},
          "execution_count": 8
        }
      ]
    },
    {
      "cell_type": "code",
      "source": [
        "# 실제 주택 가격과 예측 주택 가격 시각화\n",
        "import matplotlib.pyplot as plt\n",
        "\n",
        "pred_Y = model.predict(test_X)\n",
        "\n",
        "plt.figure(figsize=(5, 5))\n",
        "plt.plot(test_Y, pred_Y, 'b.')\n",
        "plt.axis([min(test_Y), max(test_Y), min(test_Y), max(test_Y)])\n",
        "\n",
        "# y=x에 해당하는 대각선\n",
        "plt.plot([min(test_Y), max(test_Y)], [min(test_Y), max(test_Y)], ls=\"--\", c=\".3\")\n",
        "plt.xlabel('test_Y')\n",
        "plt.ylabel('pred_Y')\n",
        "\n",
        "plt.show()"
      ],
      "metadata": {
        "colab": {
          "base_uri": "https://localhost:8080/",
          "height": 338
        },
        "id": "EwSQfqCWwVY5",
        "outputId": "659cb272-00fb-459f-8ec5-2ffbfe39d63d"
      },
      "execution_count": null,
      "outputs": [
        {
          "output_type": "display_data",
          "data": {
            "image/png": "[encoded data removed]",
            "text/plain": [
              "<Figure size 360x360 with 1 Axes>"
            ]
          },
          "metadata": {
            "needs_background": "light"
          }
        }
      ]
    },
    {
      "cell_type": "code",
      "source": [
        "# 모델 재정의 및 학습\n",
        "# val_loss가 높아지지 않도록, 즉 네트워크가 훈련 데이터에 과적합되지 않도록 학습 도중에 끼어들어서 학습을 멈추도록 한다.\n",
        "model = tf.keras.Sequential([\n",
        "    tf.keras.layers.Dense(units=52, activation='relu', input_shape=(13,)),\n",
        "    tf.keras.layers.Dense(units=39, activation='relu'),\n",
        "    tf.keras.layers.Dense(units=26, activation='relu'),\n",
        "    tf.keras.layers.Dense(units=1)\n",
        "])\n",
        "\n",
        "model.compile(optimizer=tf.keras.optimizers.Adam(lr=0.07), loss='mse')\n",
        "\n",
        "history = model.fit(train_X, train_Y, epochs=50, batch_size=32, validation_split=0.25,\n",
        "                    callbacks=[tf.keras.callbacks.EarlyStopping(patience=5, monitor='val_loss')])"
      ],
      "metadata": {
        "colab": {
          "base_uri": "https://localhost:8080/"
        },
        "id": "wyPk3gzrwWx-",
        "outputId": "3283528f-c57b-4925-feb2-844d1531bc35"
      },
      "execution_count": null,
      "outputs": [
        {
          "output_type": "stream",
          "name": "stderr",
          "text": [
            "/usr/local/lib/python3.7/dist-packages/keras/optimizer_v2/adam.py:105: UserWarning: The `lr` argument is deprecated, use `learning_rate` instead.\n",
            "  super(Adam, self).__init__(name, **kwargs)\n"
          ]
        },
        {
          "output_type": "stream",
          "name": "stdout",
          "text": [
            "Epoch 1/50\n",
            "10/10 [==============================] - 1s 28ms/step - loss: 4.0947 - val_loss: 1.0442\n",
            "Epoch 2/50\n",
            "10/10 [==============================] - 0s 9ms/step - loss: 0.5790 - val_loss: 0.6206\n",
            "Epoch 3/50\n",
            "10/10 [==============================] - 0s 6ms/step - loss: 0.4087 - val_loss: 0.3333\n",
            "Epoch 4/50\n",
            "10/10 [==============================] - 0s 8ms/step - loss: 0.2557 - val_loss: 0.3231\n",
            "Epoch 5/50\n",
            "10/10 [==============================] - 0s 8ms/step - loss: 0.2495 - val_loss: 0.2711\n",
            "Epoch 6/50\n",
            "10/10 [==============================] - 0s 10ms/step - loss: 0.1887 - val_loss: 0.2057\n",
            "Epoch 7/50\n",
            "10/10 [==============================] - 0s 8ms/step - loss: 0.1564 - val_loss: 0.1776\n",
            "Epoch 8/50\n",
            "10/10 [==============================] - 0s 8ms/step - loss: 0.1509 - val_loss: 0.2069\n",
            "Epoch 9/50\n",
            "10/10 [==============================] - 0s 8ms/step - loss: 0.1566 - val_loss: 0.2413\n",
            "Epoch 10/50\n",
            "10/10 [==============================] - 0s 7ms/step - loss: 0.1468 - val_loss: 0.1986\n",
            "Epoch 11/50\n",
            "10/10 [==============================] - 0s 11ms/step - loss: 0.1705 - val_loss: 0.1894\n",
            "Epoch 12/50\n",
            "10/10 [==============================] - 0s 8ms/step - loss: 0.2038 - val_loss: 0.1515\n",
            "Epoch 13/50\n",
            "10/10 [==============================] - 0s 8ms/step - loss: 0.1560 - val_loss: 0.2727\n",
            "Epoch 14/50\n",
            "10/10 [==============================] - 0s 10ms/step - loss: 0.1307 - val_loss: 0.2921\n",
            "Epoch 15/50\n",
            "10/10 [==============================] - 0s 9ms/step - loss: 0.2007 - val_loss: 0.4508\n",
            "Epoch 16/50\n",
            "10/10 [==============================] - 0s 12ms/step - loss: 0.1944 - val_loss: 0.4299\n",
            "Epoch 17/50\n",
            "10/10 [==============================] - 0s 12ms/step - loss: 0.2228 - val_loss: 0.3016\n"
          ]
        }
      ]
    },
    {
      "cell_type": "code",
      "source": [
        "# 회귀 모델 학습 결과 시각화\n",
        "import matplotlib.pyplot as plt\n",
        "\n",
        "plt.plot(history.history['loss'], 'b-', label='loss')\n",
        "plt.plot(history.history['val_loss'], 'r--', label='val_loss')\n",
        "plt.xlabel('Epoch')\n",
        "plt.legend()\n",
        "plt.show()"
      ],
      "metadata": {
        "colab": {
          "base_uri": "https://localhost:8080/",
          "height": 278
        },
        "id": "bf_dyyzLwY8X",
        "outputId": "1684a0aa-9112-4057-b2c1-8696db61695b"
      },
      "execution_count": null,
      "outputs": [
        {
          "output_type": "display_data",
          "data": {
            "image/png": "[encoded data removed]",
            "text/plain": [
              "<Figure size 432x288 with 1 Axes>"
            ]
          },
          "metadata": {
            "needs_background": "light"
          }
        }
      ]
    },
    {
      "cell_type": "code",
      "source": [
        "# 회귀 모델 평가\n",
        "model.evaluate(test_X, test_Y)"
      ],
      "metadata": {
        "colab": {
          "base_uri": "https://localhost:8080/"
        },
        "id": "S_UcoNYnwajO",
        "outputId": "c6443f64-c7f3-4aa8-f7c2-dbf5e6688b42"
      },
      "execution_count": null,
      "outputs": [
        {
          "output_type": "stream",
          "name": "stdout",
          "text": [
            "4/4 [==============================] - 0s 3ms/step - loss: 0.2025\n"
          ]
        },
        {
          "output_type": "execute_result",
          "data": {
            "text/plain": [
              "0.20252618193626404"
            ]
          },
          "metadata": {},
          "execution_count": 12
        }
      ]
    },
    {
      "cell_type": "code",
      "source": [
        "# 실제 주택 가격과 예측 주택 가격 시각화\n",
        "import matplotlib.pyplot as plt\n",
        "\n",
        "pred_Y = model.predict(test_X)\n",
        "\n",
        "plt.figure(figsize=(5, 5))\n",
        "plt.plot(test_Y, pred_Y, 'b.')\n",
        "plt.axis([min(test_Y), max(test_Y), min(test_Y), max(test_Y)])\n",
        "\n",
        "plt.plot([min(test_Y), max(test_Y)], [min(test_Y), max(test_Y)], ls=\"--\", c=\".3\")\n",
        "plt.xlabel('test_Y')\n",
        "plt.ylabel('pred_Y')\n",
        "\n",
        "plt.show()"
      ],
      "metadata": {
        "colab": {
          "base_uri": "https://localhost:8080/",
          "height": 338
        },
        "id": "LABPPEI4wbDo",
        "outputId": "cb0d1556-d06a-44d9-fd6e-ed8d9fd4af48"
      },
      "execution_count": null,
      "outputs": [
        {
          "output_type": "display_data",
          "data": {
            "image/png": "[encoded data removed]",
            "text/plain": [
              "<Figure size 360x360 with 1 Axes>"
            ]
          },
          "metadata": {
            "needs_background": "light"
          }
        }
      ]
    },
    {
      "cell_type": "code",
      "source": [
        "# Mean Squared Error (평균 제곱 오차)\n",
        "mse = tf.keras.losses.MeanSquaredError()\n",
        "mse(train_Y, pred_Y).numpy()"
      ],
      "metadata": {
        "colab": {
          "base_uri": "https://localhost:8080/"
        },
        "id": "l9xjeyAR1ijI",
        "outputId": "579a2c10-aa90-4c3d-ef14-a333b7a3e2f8"
      },
      "execution_count": null,
      "outputs": [
        {
          "output_type": "execute_result",
          "data": {
            "text/plain": [
              "1.87957"
            ]
          },
          "metadata": {},
          "execution_count": 14
        }
      ]
    },
    {
      "cell_type": "code",
      "source": [
        "# Root Mean Squared Error (제곱근 평균 제곱 오차)\n",
        "import math\n",
        "mse = tf.keras.losses.MeanSquaredError()\n",
        "math.sqrt(mse(train_Y, pred_Y).numpy())"
      ],
      "metadata": {
        "colab": {
          "base_uri": "https://localhost:8080/"
        },
        "id": "AKAG54bwy5m2",
        "outputId": "258816f5-11cb-4a82-9221-5e84a5c47a52"
      },
      "execution_count": null,
      "outputs": [
        {
          "output_type": "execute_result",
          "data": {
            "text/plain": [
              "1.3709741089182605"
            ]
          },
          "metadata": {},
          "execution_count": 15
        }
      ]
    },
    {
      "cell_type": "code",
      "source": [
        "# Mean Absolute Error (평균 절대 오차)\n",
        "mae = tf.keras.losses.MeanAbsoluteError()\n",
        "mae(train_Y, pred_Y).numpy()"
      ],
      "metadata": {
        "colab": {
          "base_uri": "https://localhost:8080/"
        },
        "id": "GvvyJ9WLypkF",
        "outputId": "eb16e0dc-5500-4f19-f843-ff4549be2c18"
      },
      "execution_count": null,
      "outputs": [
        {
          "output_type": "execute_result",
          "data": {
            "text/plain": [
              "1.0531669"
            ]
          },
          "metadata": {},
          "execution_count": 16
        }
      ]
    },
    {
      "cell_type": "code",
      "source": [
        "# Mean Absolute Percentage Error (평균 절대 백분율 오차)\n",
        "mape = tf.keras.losses.MeanAbsolutePercentageError()\n",
        "mape(train_Y, pred_Y).numpy()"
      ],
      "metadata": {
        "colab": {
          "base_uri": "https://localhost:8080/"
        },
        "id": "vVhHGoR2z72V",
        "outputId": "00e51611-25e5-46c5-9891-7fe4b3b1c178"
      },
      "execution_count": null,
      "outputs": [
        {
          "output_type": "execute_result",
          "data": {
            "text/plain": [
              "739.3398"
            ]
          },
          "metadata": {},
          "execution_count": 17
        }
      ]
    }
  ]
}